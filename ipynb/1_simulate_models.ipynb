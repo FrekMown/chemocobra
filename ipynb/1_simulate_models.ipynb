{
 "cells": [
  {
   "cell_type": "code",
   "execution_count": 28,
   "metadata": {},
   "outputs": [],
   "source": [
    "import cameo\n",
    "import pandas as pd\n",
    "import os\n",
    "import cobra"
   ]
  },
  {
   "cell_type": "code",
   "execution_count": 2,
   "metadata": {},
   "outputs": [],
   "source": [
    "STATIC_DIR = '../static/'\n",
    "folder_models = '../static/metabolic/models/'\n",
    "folder_maps = '../static/metabolic/maps/'"
   ]
  },
  {
   "cell_type": "code",
   "execution_count": 21,
   "metadata": {},
   "outputs": [],
   "source": [
    "def get_model_from_scen(scen):\n",
    "    folder_models = os.path.join(STATIC_DIR,'metabolic','models')\n",
    "    model = cameo.load_model(os.path.join(folder_models,scen['baseModelId']+'.json'))\n",
    "    model.objective = scen['objective']\n",
    "    for react_id in scen['modifReacts']:\n",
    "        r = model.reactions.get_by_id(react_id)\n",
    "        r.lower_bound = scen['modifReacts'][react_id][0]\n",
    "        r.upper_bound = scen['modifReacts'][react_id][1]\n",
    "    return model\n",
    "\n",
    "def run_pfba(model):\n",
    "    \"\"\"\n",
    "    Returns a dictionary with fluxes for all reactions in model\n",
    "    \"\"\"\n",
    "    res = cameo.pfba(model,model.objective)\n",
    "    return res.fluxes.to_dict()\n",
    "\n",
    "def run_fva(model,reaction_id):\n",
    "    \"\"\"\n",
    "    Returns [lower_bound,upper_bound] for a specific reaction\n",
    "    \"\"\"\n",
    "    res = cameo.flux_variability_analysis(model,[reaction_id],fraction_of_optimum=0.5)\n",
    "    return [res.data_frame['lower_bound'].values[0],res.data_frame['upper_bound'].values[0]]"
   ]
  },
  {
   "cell_type": "code",
   "execution_count": 22,
   "metadata": {},
   "outputs": [],
   "source": [
    "scen = {\n",
    "    'baseModelId': 'iML1515',\n",
    "    'objective': 'BIOMASS_Ec_iML1515_WT_75p37M',\n",
    "    'modifReacts': {},\n",
    "}"
   ]
  },
  {
   "cell_type": "code",
   "execution_count": 23,
   "metadata": {},
   "outputs": [],
   "source": [
    "model = get_model_from_scen(scen)\n",
    "res_pfba = run_pfba(model)"
   ]
  },
  {
   "cell_type": "code",
   "execution_count": 24,
   "metadata": {},
   "outputs": [
    {
     "name": "stdout",
     "output_type": "stream",
     "text": [
      "BIOMASS_Ec_iML1515_core_75p37M 0.0\n",
      "BIOMASS_Ec_iML1515_WT_75p37M -3.5655433339426885e-46\n"
     ]
    }
   ],
   "source": [
    "for r_id in res_pfba:\n",
    "    if 'biomass' in r_id.lower():\n",
    "        print(r_id, res_pfba[r_id])"
   ]
  },
  {
   "cell_type": "code",
   "execution_count": null,
   "metadata": {},
   "outputs": [],
   "source": []
  },
  {
   "cell_type": "code",
   "execution_count": 26,
   "metadata": {},
   "outputs": [
    {
     "data": {
      "text/plain": [
       "'../static/metabolic/models'"
      ]
     },
     "execution_count": 26,
     "metadata": {},
     "output_type": "execute_result"
    }
   ],
   "source": [
    "folder_models = os.path.join(STATIC_DIR,'metabolic','models')\n",
    "folder_models"
   ]
  },
  {
   "cell_type": "code",
   "execution_count": 29,
   "metadata": {},
   "outputs": [],
   "source": [
    "model = cobra.io.load_json_model(os.path.join(folder_models,'iML1515.json'))"
   ]
  },
  {
   "cell_type": "code",
   "execution_count": 33,
   "metadata": {},
   "outputs": [],
   "source": [
    "r = model.reactions.get_by_id('EX_cbl1_e')\n",
    "r.lower_bound = -1000"
   ]
  },
  {
   "cell_type": "code",
   "execution_count": 34,
   "metadata": {},
   "outputs": [
    {
     "data": {
      "text/html": [
       "\n",
       "        <table>\n",
       "            <tr>\n",
       "                <td><strong>Reaction identifier</strong></td><td>EX_cbl1_e</td>\n",
       "            </tr><tr>\n",
       "                <td><strong>Name</strong></td><td>Cob(I)alamin exchange</td>\n",
       "            </tr><tr>\n",
       "                <td><strong>Memory address</strong></td>\n",
       "                <td>0x011c5454a8</td>\n",
       "            </tr><tr>\n",
       "                <td><strong>Stoichiometry</strong></td>\n",
       "                <td>\n",
       "                    <p style='text-align:right'>cbl1_e <=> </p>\n",
       "                    <p style='text-align:right'>Cob(I)alamin <=> </p>\n",
       "                </td>\n",
       "            </tr><tr>\n",
       "                <td><strong>GPR</strong></td><td></td>\n",
       "            </tr><tr>\n",
       "                <td><strong>Lower bound</strong></td><td>-1000</td>\n",
       "            </tr><tr>\n",
       "                <td><strong>Upper bound</strong></td><td>1000.0</td>\n",
       "            </tr>\n",
       "        </table>\n",
       "        "
      ],
      "text/plain": [
       "<Reaction EX_cbl1_e at 0x11c5454a8>"
      ]
     },
     "execution_count": 34,
     "metadata": {},
     "output_type": "execute_result"
    }
   ],
   "source": [
    "r = model.reactions.get_by_id('EX_cbl1_e')\n",
    "r"
   ]
  },
  {
   "cell_type": "code",
   "execution_count": 38,
   "metadata": {},
   "outputs": [
    {
     "data": {
      "text/html": [
       "<strong><em>Optimal</em> solution with objective value 766.013</strong><br><div>\n",
       "<style scoped>\n",
       "    .dataframe tbody tr th:only-of-type {\n",
       "        vertical-align: middle;\n",
       "    }\n",
       "\n",
       "    .dataframe tbody tr th {\n",
       "        vertical-align: top;\n",
       "    }\n",
       "\n",
       "    .dataframe thead th {\n",
       "        text-align: right;\n",
       "    }\n",
       "</style>\n",
       "<table border=\"1\" class=\"dataframe\">\n",
       "  <thead>\n",
       "    <tr style=\"text-align: right;\">\n",
       "      <th></th>\n",
       "      <th>fluxes</th>\n",
       "      <th>reduced_costs</th>\n",
       "    </tr>\n",
       "  </thead>\n",
       "  <tbody>\n",
       "    <tr>\n",
       "      <th>ALATA_D2</th>\n",
       "      <td>0.000000</td>\n",
       "      <td>2.977778e+01</td>\n",
       "    </tr>\n",
       "    <tr>\n",
       "      <th>SHCHD2</th>\n",
       "      <td>0.000196</td>\n",
       "      <td>-2.000000e+00</td>\n",
       "    </tr>\n",
       "    <tr>\n",
       "      <th>CPPPGO</th>\n",
       "      <td>0.000392</td>\n",
       "      <td>-2.000000e+00</td>\n",
       "    </tr>\n",
       "    <tr>\n",
       "      <th>GTHOr</th>\n",
       "      <td>0.000000</td>\n",
       "      <td>-7.105427e-14</td>\n",
       "    </tr>\n",
       "    <tr>\n",
       "      <th>DHORD5</th>\n",
       "      <td>0.001262</td>\n",
       "      <td>-2.000000e+00</td>\n",
       "    </tr>\n",
       "    <tr>\n",
       "      <th>...</th>\n",
       "      <td>...</td>\n",
       "      <td>...</td>\n",
       "    </tr>\n",
       "    <tr>\n",
       "      <th>ACACDCBX</th>\n",
       "      <td>0.000000</td>\n",
       "      <td>2.792889e+02</td>\n",
       "    </tr>\n",
       "    <tr>\n",
       "      <th>IPRNADH</th>\n",
       "      <td>0.000000</td>\n",
       "      <td>3.771111e+01</td>\n",
       "    </tr>\n",
       "    <tr>\n",
       "      <th>IPRNADPH</th>\n",
       "      <td>0.000000</td>\n",
       "      <td>4.375556e+01</td>\n",
       "    </tr>\n",
       "    <tr>\n",
       "      <th>EX_acetone</th>\n",
       "      <td>0.000000</td>\n",
       "      <td>-2.000000e+00</td>\n",
       "    </tr>\n",
       "    <tr>\n",
       "      <th>EX_ipa</th>\n",
       "      <td>0.000000</td>\n",
       "      <td>-2.000000e+00</td>\n",
       "    </tr>\n",
       "  </tbody>\n",
       "</table>\n",
       "<p>2723 rows × 2 columns</p>\n",
       "</div>"
      ],
      "text/plain": [
       "<Solution 766.013 at 0x11a034e10>"
      ]
     },
     "execution_count": 38,
     "metadata": {},
     "output_type": "execute_result"
    }
   ],
   "source": [
    "sol = cobra.flux_analysis.parsimonious.pfba(model, objective='BIOMASS_Ec_iML1515_WT_75p37M')\n",
    "sol"
   ]
  },
  {
   "cell_type": "code",
   "execution_count": 39,
   "metadata": {},
   "outputs": [
    {
     "data": {
      "text/plain": [
       "0.8795136678735516"
      ]
     },
     "execution_count": 39,
     "metadata": {},
     "output_type": "execute_result"
    }
   ],
   "source": [
    "sol.fluxes['BIOMASS_Ec_iML1515_WT_75p37M']"
   ]
  },
  {
   "cell_type": "code",
   "execution_count": 41,
   "metadata": {},
   "outputs": [],
   "source": [
    "cobra.io.save_json_model(model,os.path.join(folder_models, 'iML1515.json'))"
   ]
  },
  {
   "cell_type": "code",
   "execution_count": 30,
   "metadata": {},
   "outputs": [
    {
     "name": "stdout",
     "output_type": "stream",
     "text": [
      "EX_cellb_e 0.0 1000.0\n",
      "EX_chol_e 0.0 1000.0\n",
      "EX_cytd_e 0.0 1000.0\n",
      "EX_crn_e 0.0 1000.0\n",
      "EX_co2_e -1000.0 1000.0\n",
      "EX_cbl1_e 0.0 1000.0\n",
      "EX_cynt_e 0.0 1000.0\n",
      "EX_ca2_e -1000.0 1000.0\n",
      "EX_ch4_e 0.0 1000.0\n",
      "EX_cbi_e 0.0 1000.0\n",
      "EX_cpgn_e 0.0 1000.0\n",
      "EX_cu2_e -1000.0 1000.0\n",
      "EX_cobalt2_e -1000.0 1000.0\n",
      "EX_cd2_e 0.0 1000.0\n",
      "EX_cgly_e 0.0 1000.0\n",
      "EX_chtbs_e 0.0 1000.0\n",
      "EX_cit_e 0.0 1000.0\n",
      "EX_cmp_e 0.0 1000.0\n",
      "EX_csn_e 0.0 1000.0\n",
      "EX_cys__L_e 0.0 1000.0\n",
      "EX_cys__D_e 0.0 1000.0\n",
      "EX_cu_e 0.0 1000.0\n",
      "EX_cyan_e 0.0 1000.0\n",
      "EX_cl_e -1000.0 1000.0\n",
      "EX_cpgn_un_e 0.0 1000.0\n",
      "EX_crn__D_e 0.0 1000.0\n",
      "EX_cm_e 0.0 1000.0\n",
      "EX_cs1_e 0.0 1000.0\n"
     ]
    }
   ],
   "source": [
    "for r in model.reactions:\n",
    "    if 'EX_c' in r.id:\n",
    "        print(r.id,r.lower_bound,r.upper_bound)"
   ]
  },
  {
   "cell_type": "code",
   "execution_count": null,
   "metadata": {},
   "outputs": [],
   "source": []
  },
  {
   "cell_type": "code",
   "execution_count": null,
   "metadata": {},
   "outputs": [],
   "source": []
  },
  {
   "cell_type": "code",
   "execution_count": null,
   "metadata": {},
   "outputs": [],
   "source": []
  }
 ],
 "metadata": {
  "kernelspec": {
   "display_name": "Python 3",
   "language": "python",
   "name": "python3"
  },
  "language_info": {
   "codemirror_mode": {
    "name": "ipython",
    "version": 3
   },
   "file_extension": ".py",
   "mimetype": "text/x-python",
   "name": "python",
   "nbconvert_exporter": "python",
   "pygments_lexer": "ipython3",
   "version": "3.6.7"
  }
 },
 "nbformat": 4,
 "nbformat_minor": 2
}
