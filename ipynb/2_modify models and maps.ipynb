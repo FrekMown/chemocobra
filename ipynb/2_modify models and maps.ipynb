{
 "cells": [
  {
   "cell_type": "code",
   "execution_count": 14,
   "metadata": {},
   "outputs": [],
   "source": [
    "import cameo\n",
    "import pandas as pd\n",
    "from rdkit import Chem\n",
    "import os\n",
    "import json"
   ]
  },
  {
   "cell_type": "code",
   "execution_count": 3,
   "metadata": {},
   "outputs": [
    {
     "name": "stdout",
     "output_type": "stream",
     "text": [
      "(1005, 4)\n"
     ]
    },
    {
     "data": {
      "text/html": [
       "<div>\n",
       "<style scoped>\n",
       "    .dataframe tbody tr th:only-of-type {\n",
       "        vertical-align: middle;\n",
       "    }\n",
       "\n",
       "    .dataframe tbody tr th {\n",
       "        vertical-align: top;\n",
       "    }\n",
       "\n",
       "    .dataframe thead th {\n",
       "        text-align: right;\n",
       "    }\n",
       "</style>\n",
       "<table border=\"1\" class=\"dataframe\">\n",
       "  <thead>\n",
       "    <tr style=\"text-align: right;\">\n",
       "      <th></th>\n",
       "      <th>name</th>\n",
       "      <th>formula</th>\n",
       "      <th>iJO1366</th>\n",
       "      <th>inchi</th>\n",
       "    </tr>\n",
       "  </thead>\n",
       "  <tbody>\n",
       "    <tr>\n",
       "      <th>10fthf</th>\n",
       "      <td>10-Formyltetrahydrofolate</td>\n",
       "      <td>C20H21N7O7</td>\n",
       "      <td>10fthf</td>\n",
       "      <td>InChI=1S/C20H23N7O7/c21-20-25-16-15(18(32)26-2...</td>\n",
       "    </tr>\n",
       "    <tr>\n",
       "      <th>12dgr120</th>\n",
       "      <td>1,2-Diacyl-sn-glycerol (didodecanoyl, n-C12:0)</td>\n",
       "      <td>C27H52O5</td>\n",
       "      <td>12dgr120</td>\n",
       "      <td>InChI=1S/C27H52O5/c1-3-5-7-9-11-13-15-17-19-21...</td>\n",
       "    </tr>\n",
       "    <tr>\n",
       "      <th>12dgr140</th>\n",
       "      <td>1,2-Diacyl-sn-glycerol (ditetradecanoyl, n-C14:0)</td>\n",
       "      <td>C31H60O5</td>\n",
       "      <td>12dgr140</td>\n",
       "      <td>InChI=1S/C31H60O5/c1-3-5-7-9-11-13-15-17-19-21...</td>\n",
       "    </tr>\n",
       "    <tr>\n",
       "      <th>12dgr141</th>\n",
       "      <td>1,2-Diacyl-sn-glycerol (ditetradec-7-enoyl, n-...</td>\n",
       "      <td>C31H56O5</td>\n",
       "      <td>12dgr141</td>\n",
       "      <td>InChI=1S/C31H56O5/c1-3-5-7-9-11-13-15-17-19-21...</td>\n",
       "    </tr>\n",
       "    <tr>\n",
       "      <th>12dgr160</th>\n",
       "      <td>1,2-Diacyl-sn-glycerol (dihexadecanoyl, n-C16:0)</td>\n",
       "      <td>C35H68O5</td>\n",
       "      <td>12dgr160</td>\n",
       "      <td>InChI=1S/C35H68O5/c1-3-5-7-9-11-13-15-17-19-21...</td>\n",
       "    </tr>\n",
       "  </tbody>\n",
       "</table>\n",
       "</div>"
      ],
      "text/plain": [
       "                                                       name     formula  \\\n",
       "10fthf                            10-Formyltetrahydrofolate  C20H21N7O7   \n",
       "12dgr120     1,2-Diacyl-sn-glycerol (didodecanoyl, n-C12:0)    C27H52O5   \n",
       "12dgr140  1,2-Diacyl-sn-glycerol (ditetradecanoyl, n-C14:0)    C31H60O5   \n",
       "12dgr141  1,2-Diacyl-sn-glycerol (ditetradec-7-enoyl, n-...    C31H56O5   \n",
       "12dgr160   1,2-Diacyl-sn-glycerol (dihexadecanoyl, n-C16:0)    C35H68O5   \n",
       "\n",
       "           iJO1366                                              inchi  \n",
       "10fthf      10fthf  InChI=1S/C20H23N7O7/c21-20-25-16-15(18(32)26-2...  \n",
       "12dgr120  12dgr120  InChI=1S/C27H52O5/c1-3-5-7-9-11-13-15-17-19-21...  \n",
       "12dgr140  12dgr140  InChI=1S/C31H60O5/c1-3-5-7-9-11-13-15-17-19-21...  \n",
       "12dgr141  12dgr141  InChI=1S/C31H56O5/c1-3-5-7-9-11-13-15-17-19-21...  \n",
       "12dgr160  12dgr160  InChI=1S/C35H68O5/c1-3-5-7-9-11-13-15-17-19-21...  "
      ]
     },
     "execution_count": 3,
     "metadata": {},
     "output_type": "execute_result"
    }
   ],
   "source": [
    "struct_data = pd.read_excel('../input/data/database_struct_mets_iML1515.xlsx',index_col=0)\n",
    "print(struct_data.shape)\n",
    "struct_data.head()"
   ]
  },
  {
   "cell_type": "code",
   "execution_count": 4,
   "metadata": {},
   "outputs": [
    {
     "data": {
      "text/plain": [
       "False    1005\n",
       "Name: inchi, dtype: int64"
      ]
     },
     "execution_count": 4,
     "metadata": {},
     "output_type": "execute_result"
    }
   ],
   "source": [
    "struct_data['inchi'].isnull().value_counts()"
   ]
  },
  {
   "cell_type": "code",
   "execution_count": 23,
   "metadata": {},
   "outputs": [],
   "source": [
    "def inchitosmiles(inchi):\n",
    "    return Chem.MolToSmiles(Chem.MolFromInchi(inchi))\n",
    "struct_data2 = pd.DataFrame().assign(smiles=struct_data['inchi'].apply(inchitosmiles))"
   ]
  },
  {
   "cell_type": "code",
   "execution_count": 24,
   "metadata": {},
   "outputs": [
    {
     "data": {
      "text/html": [
       "<div>\n",
       "<style scoped>\n",
       "    .dataframe tbody tr th:only-of-type {\n",
       "        vertical-align: middle;\n",
       "    }\n",
       "\n",
       "    .dataframe tbody tr th {\n",
       "        vertical-align: top;\n",
       "    }\n",
       "\n",
       "    .dataframe thead th {\n",
       "        text-align: right;\n",
       "    }\n",
       "</style>\n",
       "<table border=\"1\" class=\"dataframe\">\n",
       "  <thead>\n",
       "    <tr style=\"text-align: right;\">\n",
       "      <th></th>\n",
       "      <th>smiles</th>\n",
       "    </tr>\n",
       "  </thead>\n",
       "  <tbody>\n",
       "    <tr>\n",
       "      <th>10fthf</th>\n",
       "      <td>N=c1nc(O)c2c([nH]1)NCC(CN(C=O)c1ccc(C(=O)N[C@@...</td>\n",
       "    </tr>\n",
       "    <tr>\n",
       "      <th>12dgr120</th>\n",
       "      <td>CCCCCCCCCCCC(=O)OC[C@H](CO)OC(=O)CCCCCCCCCCC</td>\n",
       "    </tr>\n",
       "    <tr>\n",
       "      <th>12dgr140</th>\n",
       "      <td>CCCCCCCCCCCCCC(=O)OC[C@H](CO)OC(=O)CCCCCCCCCCCCC</td>\n",
       "    </tr>\n",
       "    <tr>\n",
       "      <th>12dgr141</th>\n",
       "      <td>CCCCCC/C=C\\CCCCCC(=O)OCC(CO)OC(=O)CCCCC/C=C\\CC...</td>\n",
       "    </tr>\n",
       "    <tr>\n",
       "      <th>12dgr160</th>\n",
       "      <td>CCCCCCCCCCCCCCCC(=O)OC[C@H](CO)OC(=O)CCCCCCCCC...</td>\n",
       "    </tr>\n",
       "  </tbody>\n",
       "</table>\n",
       "</div>"
      ],
      "text/plain": [
       "                                                     smiles\n",
       "10fthf    N=c1nc(O)c2c([nH]1)NCC(CN(C=O)c1ccc(C(=O)N[C@@...\n",
       "12dgr120       CCCCCCCCCCCC(=O)OC[C@H](CO)OC(=O)CCCCCCCCCCC\n",
       "12dgr140   CCCCCCCCCCCCCC(=O)OC[C@H](CO)OC(=O)CCCCCCCCCCCCC\n",
       "12dgr141  CCCCCC/C=C\\CCCCCC(=O)OCC(CO)OC(=O)CCCCC/C=C\\CC...\n",
       "12dgr160  CCCCCCCCCCCCCCCC(=O)OC[C@H](CO)OC(=O)CCCCCCCCC..."
      ]
     },
     "execution_count": 24,
     "metadata": {},
     "output_type": "execute_result"
    }
   ],
   "source": [
    "struct_data2.head()"
   ]
  },
  {
   "cell_type": "code",
   "execution_count": 25,
   "metadata": {},
   "outputs": [],
   "source": [
    "struct_data2.to_csv('/media/frek/Storage/projects/chemocobra/static/chemoinfo/smiles_iML1515.csv')"
   ]
  },
  {
   "cell_type": "code",
   "execution_count": 32,
   "metadata": {},
   "outputs": [],
   "source": [
    "def get_model(model_id):\n",
    "    STATIC_DIR = '/media/frek/Storage/projects/chemocobra/static/'\n",
    "    model_path = os.path.join(STATIC_DIR,'metabolic','models',model_id+'.json')\n",
    "    with open(os.path.join(model_path)) as f:\n",
    "        model = json.load(f)\n",
    "    model['id'] = model_id\n",
    "    return model"
   ]
  },
  {
   "cell_type": "code",
   "execution_count": 16,
   "metadata": {},
   "outputs": [],
   "source": [
    "model_json = get('iML1515_PKT')"
   ]
  },
  {
   "cell_type": "code",
   "execution_count": 18,
   "metadata": {},
   "outputs": [
    {
     "data": {
      "text/plain": [
       "dict_keys(['reactions', 'metabolites', 'genes', 'id', 'name', 'compartments', 'version'])"
      ]
     },
     "execution_count": 18,
     "metadata": {},
     "output_type": "execute_result"
    }
   ],
   "source": [
    "model_json.keys()"
   ]
  },
  {
   "cell_type": "code",
   "execution_count": 20,
   "metadata": {},
   "outputs": [
    {
     "data": {
      "text/plain": [
       "1887"
      ]
     },
     "execution_count": 20,
     "metadata": {},
     "output_type": "execute_result"
    }
   ],
   "source": [
    "len(model_json['metabolites'])"
   ]
  },
  {
   "cell_type": "code",
   "execution_count": 22,
   "metadata": {},
   "outputs": [
    {
     "data": {
      "text/plain": [
       "{'id': '10fthf_c',\n",
       " 'name': '10-Formyltetrahydrofolate',\n",
       " 'compartment': 'c',\n",
       " 'charge': -2,\n",
       " 'formula': 'C20H21N7O7'}"
      ]
     },
     "execution_count": 22,
     "metadata": {},
     "output_type": "execute_result"
    }
   ],
   "source": [
    "model_json['metabolites'][0]"
   ]
  },
  {
   "cell_type": "code",
   "execution_count": 26,
   "metadata": {},
   "outputs": [
    {
     "data": {
      "text/plain": [
       "{'id': 'b0002', 'name': 'thrA'}"
      ]
     },
     "execution_count": 26,
     "metadata": {},
     "output_type": "execute_result"
    }
   ],
   "source": [
    "model_json['genes'][0]"
   ]
  },
  {
   "cell_type": "code",
   "execution_count": 28,
   "metadata": {},
   "outputs": [
    {
     "data": {
      "text/plain": [
       "{'id': '23CCMPtex',\n",
       " 'name': '23cCMP transport via diffusion (extracellular to periplasm)',\n",
       " 'metabolites': {'23ccmp_e': -1.0, '23ccmp_p': 1.0},\n",
       " 'lower_bound': -1000.0,\n",
       " 'upper_bound': 1000.0,\n",
       " 'gene_reaction_rule': 'b0241 or b0929 or b1377 or b2215'}"
      ]
     },
     "execution_count": 28,
     "metadata": {},
     "output_type": "execute_result"
    }
   ],
   "source": [
    "model_json['reactions'][15]"
   ]
  },
  {
   "cell_type": "code",
   "execution_count": null,
   "metadata": {},
   "outputs": [],
   "source": []
  },
  {
   "cell_type": "markdown",
   "metadata": {},
   "source": [
    "## Add data to models"
   ]
  },
  {
   "cell_type": "markdown",
   "metadata": {},
   "source": [
    "## Genes"
   ]
  },
  {
   "cell_type": "code",
   "execution_count": 81,
   "metadata": {},
   "outputs": [
    {
     "name": "stdout",
     "output_type": "stream",
     "text": [
      "(4454, 8)\n"
     ]
    },
    {
     "data": {
      "text/html": [
       "<div>\n",
       "<style scoped>\n",
       "    .dataframe tbody tr th:only-of-type {\n",
       "        vertical-align: middle;\n",
       "    }\n",
       "\n",
       "    .dataframe tbody tr th {\n",
       "        vertical-align: top;\n",
       "    }\n",
       "\n",
       "    .dataframe thead th {\n",
       "        text-align: right;\n",
       "    }\n",
       "</style>\n",
       "<table border=\"1\" class=\"dataframe\">\n",
       "  <thead>\n",
       "    <tr style=\"text-align: right;\">\n",
       "      <th></th>\n",
       "      <th>ecocyc_id</th>\n",
       "      <th>synonyms</th>\n",
       "      <th>products</th>\n",
       "      <th>n_prods</th>\n",
       "      <th>ko_obs</th>\n",
       "      <th>url</th>\n",
       "      <th>uniprot</th>\n",
       "      <th>class</th>\n",
       "    </tr>\n",
       "  </thead>\n",
       "  <tbody>\n",
       "    <tr>\n",
       "      <th>b0399</th>\n",
       "      <td>EG10728</td>\n",
       "      <td>phoB phoRc phoT</td>\n",
       "      <td>PHOSPHO-PHOB PHOB-MONOMER</td>\n",
       "      <td>2.0</td>\n",
       "      <td>OBS0-49 OBS0-37 OBS0-33 OBS0-44</td>\n",
       "      <td>http://ecocyc.org/gene?orgid=ECOLI&amp;id=EG10728</td>\n",
       "      <td>NaN</td>\n",
       "      <td>repressor</td>\n",
       "    </tr>\n",
       "    <tr>\n",
       "      <th>b2839</th>\n",
       "      <td>EG10551</td>\n",
       "      <td>lysR</td>\n",
       "      <td>PD00360</td>\n",
       "      <td>1.0</td>\n",
       "      <td>OBS0-49 OBS0-37 OBS0-33</td>\n",
       "      <td>http://ecocyc.org/gene?orgid=ECOLI&amp;id=EG10551</td>\n",
       "      <td>P03030</td>\n",
       "      <td>repressor</td>\n",
       "    </tr>\n",
       "  </tbody>\n",
       "</table>\n",
       "</div>"
      ],
      "text/plain": [
       "      ecocyc_id         synonyms                   products  n_prods  \\\n",
       "b0399   EG10728  phoB phoRc phoT  PHOSPHO-PHOB PHOB-MONOMER      2.0   \n",
       "b2839   EG10551             lysR                    PD00360      1.0   \n",
       "\n",
       "                                ko_obs  \\\n",
       "b0399  OBS0-49 OBS0-37 OBS0-33 OBS0-44   \n",
       "b2839          OBS0-49 OBS0-37 OBS0-33   \n",
       "\n",
       "                                                 url uniprot      class  \n",
       "b0399  http://ecocyc.org/gene?orgid=ECOLI&id=EG10728     NaN  repressor  \n",
       "b2839  http://ecocyc.org/gene?orgid=ECOLI&id=EG10551  P03030  repressor  "
      ]
     },
     "execution_count": 81,
     "metadata": {},
     "output_type": "execute_result"
    }
   ],
   "source": [
    "genes_data = pd.read_csv('../input/df_genes_modsouch.csv',index_col=0,sep=';')\n",
    "print(genes_data.shape)\n",
    "genes_data.head(2)"
   ]
  },
  {
   "cell_type": "code",
   "execution_count": null,
   "metadata": {},
   "outputs": [],
   "source": [
    "# For GENES add: ecocyc_id an synonyms --> only for iML1515\n",
    "for mid in models_iML1515:\n",
    "    model = models[mid]\n",
    "    for g in model['genes']:\n",
    "        if g['id'] in genes_data.index:\n",
    "            g['ecocyc_id'] = genes_data.loc[g['id'],'ecocyc_id']\n",
    "            g['synonyms'] = genes_data.loc[g['id'],'synonyms']"
   ]
  },
  {
   "cell_type": "code",
   "execution_count": 95,
   "metadata": {},
   "outputs": [
    {
     "name": "stdout",
     "output_type": "stream",
     "text": [
      "dict_keys(['iML1515_PKT', 'iML1515', 'iJO1366', 'RECON1', 'iHN637', 'iML1515_PKT_test'])\n"
     ]
    }
   ],
   "source": [
    "models_iML1515 = ['iML1515_PKT', 'iML1515', 'iML1515_PKT_test']\n",
    "models = {}\n",
    "model_dir = '/media/frek/Storage/projects/chemocobra/static/metabolic/models/'\n",
    "for file_model in [f for f in os.listdir(model_dir) if f.endswith('.json') and 'old' not in f]:\n",
    "    with open((model_dir+file_model)) as f:\n",
    "        models[file_model.replace('.json','')] = json.load(f)\n",
    "    #models[file_model.replace('.json','')] = cameo.load_model(model_dir+file_model)\n",
    "print(models.keys())"
   ]
  },
  {
   "cell_type": "code",
   "execution_count": null,
   "metadata": {},
   "outputs": [],
   "source": []
  },
  {
   "cell_type": "code",
   "execution_count": null,
   "metadata": {},
   "outputs": [],
   "source": []
  },
  {
   "cell_type": "markdown",
   "metadata": {},
   "source": [
    "## Metabolites"
   ]
  },
  {
   "cell_type": "code",
   "execution_count": 78,
   "metadata": {},
   "outputs": [
    {
     "name": "stdout",
     "output_type": "stream",
     "text": [
      "(1005, 1)\n"
     ]
    },
    {
     "data": {
      "text/html": [
       "<div>\n",
       "<style scoped>\n",
       "    .dataframe tbody tr th:only-of-type {\n",
       "        vertical-align: middle;\n",
       "    }\n",
       "\n",
       "    .dataframe tbody tr th {\n",
       "        vertical-align: top;\n",
       "    }\n",
       "\n",
       "    .dataframe thead th {\n",
       "        text-align: right;\n",
       "    }\n",
       "</style>\n",
       "<table border=\"1\" class=\"dataframe\">\n",
       "  <thead>\n",
       "    <tr style=\"text-align: right;\">\n",
       "      <th></th>\n",
       "      <th>smiles</th>\n",
       "    </tr>\n",
       "  </thead>\n",
       "  <tbody>\n",
       "    <tr>\n",
       "      <th>10fthf</th>\n",
       "      <td>N=c1nc(O)c2c([nH]1)NCC(CN(C=O)c1ccc(C(=O)N[C@@...</td>\n",
       "    </tr>\n",
       "    <tr>\n",
       "      <th>12dgr120</th>\n",
       "      <td>CCCCCCCCCCCC(=O)OC[C@H](CO)OC(=O)CCCCCCCCCCC</td>\n",
       "    </tr>\n",
       "    <tr>\n",
       "      <th>12dgr140</th>\n",
       "      <td>CCCCCCCCCCCCCC(=O)OC[C@H](CO)OC(=O)CCCCCCCCCCCCC</td>\n",
       "    </tr>\n",
       "    <tr>\n",
       "      <th>12dgr141</th>\n",
       "      <td>CCCCCC/C=C\\CCCCCC(=O)OCC(CO)OC(=O)CCCCC/C=C\\CC...</td>\n",
       "    </tr>\n",
       "    <tr>\n",
       "      <th>12dgr160</th>\n",
       "      <td>CCCCCCCCCCCCCCCC(=O)OC[C@H](CO)OC(=O)CCCCCCCCC...</td>\n",
       "    </tr>\n",
       "  </tbody>\n",
       "</table>\n",
       "</div>"
      ],
      "text/plain": [
       "                                                     smiles\n",
       "10fthf    N=c1nc(O)c2c([nH]1)NCC(CN(C=O)c1ccc(C(=O)N[C@@...\n",
       "12dgr120       CCCCCCCCCCCC(=O)OC[C@H](CO)OC(=O)CCCCCCCCCCC\n",
       "12dgr140   CCCCCCCCCCCCCC(=O)OC[C@H](CO)OC(=O)CCCCCCCCCCCCC\n",
       "12dgr141  CCCCCC/C=C\\CCCCCC(=O)OCC(CO)OC(=O)CCCCC/C=C\\CC...\n",
       "12dgr160  CCCCCCCCCCCCCCCC(=O)OC[C@H](CO)OC(=O)CCCCCCCCC..."
      ]
     },
     "execution_count": 78,
     "metadata": {},
     "output_type": "execute_result"
    }
   ],
   "source": [
    "print(struct_data2.shape)\n",
    "struct_data2.head()"
   ]
  },
  {
   "cell_type": "code",
   "execution_count": 187,
   "metadata": {},
   "outputs": [
    {
     "name": "stdout",
     "output_type": "stream",
     "text": [
      "(7340, 3)\n"
     ]
    },
    {
     "data": {
      "text/html": [
       "<div>\n",
       "<style scoped>\n",
       "    .dataframe tbody tr th:only-of-type {\n",
       "        vertical-align: middle;\n",
       "    }\n",
       "\n",
       "    .dataframe tbody tr th {\n",
       "        vertical-align: top;\n",
       "    }\n",
       "\n",
       "    .dataframe thead th {\n",
       "        text-align: right;\n",
       "    }\n",
       "</style>\n",
       "<table border=\"1\" class=\"dataframe\">\n",
       "  <thead>\n",
       "    <tr style=\"text-align: right;\">\n",
       "      <th></th>\n",
       "      <th>name</th>\n",
       "      <th>database_links</th>\n",
       "      <th>MNX</th>\n",
       "    </tr>\n",
       "    <tr>\n",
       "      <th>universal_bigg_id</th>\n",
       "      <th></th>\n",
       "      <th></th>\n",
       "      <th></th>\n",
       "    </tr>\n",
       "  </thead>\n",
       "  <tbody>\n",
       "    <tr>\n",
       "      <th>10fthf</th>\n",
       "      <td>10-Formyltetrahydrofolate</td>\n",
       "      <td>Reactome: http://www.reactome.org/content/deta...</td>\n",
       "      <td>MNXM237</td>\n",
       "    </tr>\n",
       "    <tr>\n",
       "      <th>12dgr120</th>\n",
       "      <td>1,2-Diacyl-sn-glycerol (didodecanoyl, n-C12:0)</td>\n",
       "      <td>MetaNetX (MNX) Chemical: http://identifiers.or...</td>\n",
       "      <td>MNXM4939</td>\n",
       "    </tr>\n",
       "    <tr>\n",
       "      <th>12dgr140</th>\n",
       "      <td>1,2-Diacyl-sn-glycerol (ditetradecanoyl, n-C14:0)</td>\n",
       "      <td>MetaNetX (MNX) Chemical: http://identifiers.or...</td>\n",
       "      <td>MNXM146479</td>\n",
       "    </tr>\n",
       "    <tr>\n",
       "      <th>12dgr161</th>\n",
       "      <td>1,2-Diacyl-sn-glycerol (dihexadec-9-enoyl, n-C...</td>\n",
       "      <td>MetaNetX (MNX) Chemical: http://identifiers.or...</td>\n",
       "      <td>MNXM3774</td>\n",
       "    </tr>\n",
       "    <tr>\n",
       "      <th>12dgr180</th>\n",
       "      <td>1,2-Diacyl-sn-glycerol (dioctadecanoyl, n-C18:0)</td>\n",
       "      <td>MetaNetX (MNX) Chemical: http://identifiers.or...</td>\n",
       "      <td>MNXM4217</td>\n",
       "    </tr>\n",
       "  </tbody>\n",
       "</table>\n",
       "</div>"
      ],
      "text/plain": [
       "                                                                name  \\\n",
       "universal_bigg_id                                                      \n",
       "10fthf                                     10-Formyltetrahydrofolate   \n",
       "12dgr120              1,2-Diacyl-sn-glycerol (didodecanoyl, n-C12:0)   \n",
       "12dgr140           1,2-Diacyl-sn-glycerol (ditetradecanoyl, n-C14:0)   \n",
       "12dgr161           1,2-Diacyl-sn-glycerol (dihexadec-9-enoyl, n-C...   \n",
       "12dgr180            1,2-Diacyl-sn-glycerol (dioctadecanoyl, n-C18:0)   \n",
       "\n",
       "                                                      database_links  \\\n",
       "universal_bigg_id                                                      \n",
       "10fthf             Reactome: http://www.reactome.org/content/deta...   \n",
       "12dgr120           MetaNetX (MNX) Chemical: http://identifiers.or...   \n",
       "12dgr140           MetaNetX (MNX) Chemical: http://identifiers.or...   \n",
       "12dgr161           MetaNetX (MNX) Chemical: http://identifiers.or...   \n",
       "12dgr180           MetaNetX (MNX) Chemical: http://identifiers.or...   \n",
       "\n",
       "                          MNX  \n",
       "universal_bigg_id              \n",
       "10fthf                MNXM237  \n",
       "12dgr120             MNXM4939  \n",
       "12dgr140           MNXM146479  \n",
       "12dgr161             MNXM3774  \n",
       "12dgr180             MNXM4217  "
      ]
     },
     "execution_count": 187,
     "metadata": {},
     "output_type": "execute_result"
    }
   ],
   "source": [
    "# Load data metabolites BIGG\n",
    "met_bigg = pd.read_csv('/media/frek/Storage/Data/BIGG/bigg_models_metabolites.txt',sep='\\t').drop_duplicates(subset=['universal_bigg_id'], keep='first')\n",
    "met_bigg = met_bigg.set_index('universal_bigg_id')[['name','database_links']]\n",
    "for idx in met_bigg.index:\n",
    "    mnx = [':'.join(x.split(':')[1:]) for x in str(met_bigg.loc[idx,'database_links']).split('; ') if 'MNX' in str(x).split(':')[0]]\n",
    "    if len(mnx)>0:\n",
    "        met_bigg.loc[idx,'MNX'] = mnx[0].split('/')[-1]\n",
    "    else:\n",
    "        met_bigg.loc[idx,'MNX'] = ''\n",
    "print(met_bigg.shape)\n",
    "met_bigg.head()"
   ]
  },
  {
   "cell_type": "code",
   "execution_count": 144,
   "metadata": {},
   "outputs": [
    {
     "name": "stdout",
     "output_type": "stream",
     "text": [
      "(694311, 3)\n"
     ]
    },
    {
     "data": {
      "text/html": [
       "<div>\n",
       "<style scoped>\n",
       "    .dataframe tbody tr th:only-of-type {\n",
       "        vertical-align: middle;\n",
       "    }\n",
       "\n",
       "    .dataframe tbody tr th {\n",
       "        vertical-align: top;\n",
       "    }\n",
       "\n",
       "    .dataframe thead th {\n",
       "        text-align: right;\n",
       "    }\n",
       "</style>\n",
       "<table border=\"1\" class=\"dataframe\">\n",
       "  <thead>\n",
       "    <tr style=\"text-align: right;\">\n",
       "      <th></th>\n",
       "      <th>name</th>\n",
       "      <th>inchi</th>\n",
       "      <th>smiles</th>\n",
       "    </tr>\n",
       "    <tr>\n",
       "      <th>0</th>\n",
       "      <th></th>\n",
       "      <th></th>\n",
       "      <th></th>\n",
       "    </tr>\n",
       "  </thead>\n",
       "  <tbody>\n",
       "    <tr>\n",
       "      <th>BIOMASS</th>\n",
       "      <td>Biomass</td>\n",
       "      <td>NaN</td>\n",
       "      <td>NaN</td>\n",
       "    </tr>\n",
       "    <tr>\n",
       "      <th>MNXM0</th>\n",
       "      <td>molecular entity</td>\n",
       "      <td>NaN</td>\n",
       "      <td>NaN</td>\n",
       "    </tr>\n",
       "    <tr>\n",
       "      <th>MNXM01</th>\n",
       "      <td>H(+)</td>\n",
       "      <td>InChI=1S/p+1</td>\n",
       "      <td>[H+]</td>\n",
       "    </tr>\n",
       "    <tr>\n",
       "      <th>MNXM1</th>\n",
       "      <td>H(+)</td>\n",
       "      <td>InChI=1S/p+1</td>\n",
       "      <td>[H+]</td>\n",
       "    </tr>\n",
       "    <tr>\n",
       "      <th>MNXM2</th>\n",
       "      <td>H2O</td>\n",
       "      <td>InChI=1S/H2O/h1H2</td>\n",
       "      <td>[H]O[H]</td>\n",
       "    </tr>\n",
       "  </tbody>\n",
       "</table>\n",
       "</div>"
      ],
      "text/plain": [
       "                     name              inchi   smiles\n",
       "0                                                    \n",
       "BIOMASS           Biomass                NaN      NaN\n",
       "MNXM0    molecular entity                NaN      NaN\n",
       "MNXM01               H(+)       InChI=1S/p+1     [H+]\n",
       "MNXM1                H(+)       InChI=1S/p+1     [H+]\n",
       "MNXM2                 H2O  InChI=1S/H2O/h1H2  [H]O[H]"
      ]
     },
     "execution_count": 144,
     "metadata": {},
     "output_type": "execute_result"
    }
   ],
   "source": [
    "# Load data metabolites MNX\n",
    "met_mnx = pd.read_csv('/media/frek/Storage/Data/MNX/chem_prop.tsv',sep='\\t',comment='#',header=None)\n",
    "met_mnx = met_mnx.drop_duplicates(subset=[0])[[0,1,5,6]].set_index(0)\n",
    "met_mnx.columns = ['name','inchi','smiles']\n",
    "print(met_mnx.shape)\n",
    "met_mnx.head()"
   ]
  },
  {
   "cell_type": "code",
   "execution_count": 188,
   "metadata": {},
   "outputs": [
    {
     "name": "stdout",
     "output_type": "stream",
     "text": [
      "(7340, 5)\n"
     ]
    },
    {
     "data": {
      "text/html": [
       "<div>\n",
       "<style scoped>\n",
       "    .dataframe tbody tr th:only-of-type {\n",
       "        vertical-align: middle;\n",
       "    }\n",
       "\n",
       "    .dataframe tbody tr th {\n",
       "        vertical-align: top;\n",
       "    }\n",
       "\n",
       "    .dataframe thead th {\n",
       "        text-align: right;\n",
       "    }\n",
       "</style>\n",
       "<table border=\"1\" class=\"dataframe\">\n",
       "  <thead>\n",
       "    <tr style=\"text-align: right;\">\n",
       "      <th></th>\n",
       "      <th>name</th>\n",
       "      <th>database_links</th>\n",
       "      <th>MNX</th>\n",
       "      <th>inchi</th>\n",
       "      <th>smiles</th>\n",
       "    </tr>\n",
       "    <tr>\n",
       "      <th>universal_bigg_id</th>\n",
       "      <th></th>\n",
       "      <th></th>\n",
       "      <th></th>\n",
       "      <th></th>\n",
       "      <th></th>\n",
       "    </tr>\n",
       "  </thead>\n",
       "  <tbody>\n",
       "    <tr>\n",
       "      <th>10fthf</th>\n",
       "      <td>10-Formyltetrahydrofolate</td>\n",
       "      <td>Reactome: http://www.reactome.org/content/deta...</td>\n",
       "      <td>MNXM237</td>\n",
       "      <td>InChI=1S/C20H23N7O7/c21-20-25-16-15(18(32)26-2...</td>\n",
       "      <td>[H]C(=O)N(C[C@H]1CNc2nc(N)[nH]c(=O)c2N1)c1ccc(...</td>\n",
       "    </tr>\n",
       "    <tr>\n",
       "      <th>12dgr120</th>\n",
       "      <td>1,2-Diacyl-sn-glycerol (didodecanoyl, n-C12:0)</td>\n",
       "      <td>MetaNetX (MNX) Chemical: http://identifiers.or...</td>\n",
       "      <td>MNXM4939</td>\n",
       "      <td>NaN</td>\n",
       "      <td>NaN</td>\n",
       "    </tr>\n",
       "    <tr>\n",
       "      <th>12dgr140</th>\n",
       "      <td>1,2-Diacyl-sn-glycerol (ditetradecanoyl, n-C14:0)</td>\n",
       "      <td>MetaNetX (MNX) Chemical: http://identifiers.or...</td>\n",
       "      <td>MNXM146479</td>\n",
       "      <td>NaN</td>\n",
       "      <td>NaN</td>\n",
       "    </tr>\n",
       "  </tbody>\n",
       "</table>\n",
       "</div>"
      ],
      "text/plain": [
       "                                                                name  \\\n",
       "universal_bigg_id                                                      \n",
       "10fthf                                     10-Formyltetrahydrofolate   \n",
       "12dgr120              1,2-Diacyl-sn-glycerol (didodecanoyl, n-C12:0)   \n",
       "12dgr140           1,2-Diacyl-sn-glycerol (ditetradecanoyl, n-C14:0)   \n",
       "\n",
       "                                                      database_links  \\\n",
       "universal_bigg_id                                                      \n",
       "10fthf             Reactome: http://www.reactome.org/content/deta...   \n",
       "12dgr120           MetaNetX (MNX) Chemical: http://identifiers.or...   \n",
       "12dgr140           MetaNetX (MNX) Chemical: http://identifiers.or...   \n",
       "\n",
       "                          MNX  \\\n",
       "universal_bigg_id               \n",
       "10fthf                MNXM237   \n",
       "12dgr120             MNXM4939   \n",
       "12dgr140           MNXM146479   \n",
       "\n",
       "                                                               inchi  \\\n",
       "universal_bigg_id                                                      \n",
       "10fthf             InChI=1S/C20H23N7O7/c21-20-25-16-15(18(32)26-2...   \n",
       "12dgr120                                                         NaN   \n",
       "12dgr140                                                         NaN   \n",
       "\n",
       "                                                              smiles  \n",
       "universal_bigg_id                                                     \n",
       "10fthf             [H]C(=O)N(C[C@H]1CNc2nc(N)[nH]c(=O)c2N1)c1ccc(...  \n",
       "12dgr120                                                         NaN  \n",
       "12dgr140                                                         NaN  "
      ]
     },
     "execution_count": 188,
     "metadata": {},
     "output_type": "execute_result"
    }
   ],
   "source": [
    "# Merge MNX with BIGG\n",
    "met_bigg = met_bigg.merge(met_mnx[['inchi','smiles']],how='left',left_on='MNX',right_index=True)\n",
    "print(met_bigg.shape)\n",
    "met_bigg.head(3)"
   ]
  },
  {
   "cell_type": "code",
   "execution_count": 189,
   "metadata": {},
   "outputs": [
    {
     "name": "stdout",
     "output_type": "stream",
     "text": [
      "iML1515_PKT acphe\n",
      "iML1515_PKT_test acphe\n"
     ]
    }
   ],
   "source": [
    "## See if metabolites in models are indeed present in met_bigg.index --> OK =)\n",
    "for mid in models:\n",
    "    for met in models[mid]['metabolites']:\n",
    "        met_id = '_'.join(met['id'].split('_')[:-1])\n",
    "        if met_id not in met_bigg.index:\n",
    "            print(mid,met_id)"
   ]
  },
  {
   "cell_type": "code",
   "execution_count": 190,
   "metadata": {},
   "outputs": [],
   "source": [
    "## verify structures\n",
    "for met_id in met_bigg.index:\n",
    "    # verify inchi\n",
    "    inchi_ok = False\n",
    "    try:\n",
    "        mol = Chem.MolFromInchi(met_bigg.loc[met_id,'inchi'])\n",
    "    except:\n",
    "        pass\n",
    "    else:\n",
    "        if mol is not None:\n",
    "            inchi_ok = True\n",
    "            \n",
    "    # verify smiles\n",
    "    smiles_ok = False\n",
    "    try:\n",
    "        mol = Chem.MolFromSmiles(met_bigg.loc[met_id,'smiles'])\n",
    "    except:\n",
    "        pass\n",
    "    else:\n",
    "        if mol is not None:\n",
    "            smiles_ok = True\n",
    "    if smiles_ok:\n",
    "        met_bigg.loc[met_id,'smiles_ok'] = met_bigg.loc[met_id,'smiles']\n",
    "    elif inchi_ok:\n",
    "        mol = Chem.MolFromInchi(met_bigg.loc[met_id,'inchi'])\n",
    "        met_bigg.loc[met_id,'smiles_ok'] = Chem.MolToSmiles(mol)\n",
    "    else:\n",
    "        met_bigg.loc[met_id,'smiles_ok'] = ''"
   ]
  },
  {
   "cell_type": "code",
   "execution_count": 191,
   "metadata": {},
   "outputs": [
    {
     "data": {
      "text/plain": [
       "False    5242\n",
       "True     2098\n",
       "Name: smiles_ok, dtype: int64"
      ]
     },
     "execution_count": 191,
     "metadata": {},
     "output_type": "execute_result"
    }
   ],
   "source": [
    "met_bigg['smiles_ok'].apply(lambda x:x!='').value_counts()"
   ]
  },
  {
   "cell_type": "code",
   "execution_count": 180,
   "metadata": {},
   "outputs": [
    {
     "name": "stdout",
     "output_type": "stream",
     "text": [
      "10fthf smiles    N=c1nc(O)c2c([nH]1)NCC(CN(C=O)c1ccc(C(=O)N[C@@...\n",
      "Name: 10fthf, dtype: object\n"
     ]
    },
    {
     "data": {
      "text/plain": [
       "name                                 10-Formyltetrahydrofolate\n",
       "MNX                                                    MNXM237\n",
       "smiles_ok    [H]C(=O)N(C[C@H]1CNc2nc(N)[nH]c(=O)c2N1)c1ccc(...\n",
       "Name: 10fthf, dtype: object"
      ]
     },
     "execution_count": 180,
     "metadata": {},
     "output_type": "execute_result"
    }
   ],
   "source": [
    "print(met_id, struct_data2.loc[met_id])\n",
    "met_bigg.loc[met_id]"
   ]
  },
  {
   "cell_type": "code",
   "execution_count": 192,
   "metadata": {},
   "outputs": [],
   "source": [
    "## Finally, data for ecoli is better:\n",
    "for met_id in struct_data2.index:\n",
    "    if struct_data2.loc[met_id,'smiles'] != '':\n",
    "        met_bigg.loc[met_id,'smiles_ok'] = struct_data2.loc[met_id,'smiles']"
   ]
  },
  {
   "cell_type": "code",
   "execution_count": 193,
   "metadata": {},
   "outputs": [
    {
     "data": {
      "text/plain": [
       "False    5107\n",
       "True     2234\n",
       "Name: smiles_ok, dtype: int64"
      ]
     },
     "execution_count": 193,
     "metadata": {},
     "output_type": "execute_result"
    }
   ],
   "source": [
    "met_bigg['smiles_ok'].apply(lambda x:x!='').value_counts()"
   ]
  },
  {
   "cell_type": "code",
   "execution_count": 197,
   "metadata": {},
   "outputs": [
    {
     "data": {
      "text/html": [
       "<div>\n",
       "<style scoped>\n",
       "    .dataframe tbody tr th:only-of-type {\n",
       "        vertical-align: middle;\n",
       "    }\n",
       "\n",
       "    .dataframe tbody tr th {\n",
       "        vertical-align: top;\n",
       "    }\n",
       "\n",
       "    .dataframe thead th {\n",
       "        text-align: right;\n",
       "    }\n",
       "</style>\n",
       "<table border=\"1\" class=\"dataframe\">\n",
       "  <thead>\n",
       "    <tr style=\"text-align: right;\">\n",
       "      <th></th>\n",
       "      <th>name</th>\n",
       "      <th>MNX</th>\n",
       "      <th>smiles_ok</th>\n",
       "    </tr>\n",
       "    <tr>\n",
       "      <th>universal_bigg_id</th>\n",
       "      <th></th>\n",
       "      <th></th>\n",
       "      <th></th>\n",
       "    </tr>\n",
       "  </thead>\n",
       "  <tbody>\n",
       "    <tr>\n",
       "      <th>10fthf</th>\n",
       "      <td>10-Formyltetrahydrofolate</td>\n",
       "      <td>MNXM237</td>\n",
       "      <td>N=c1nc(O)c2c([nH]1)NCC(CN(C=O)c1ccc(C(=O)N[C@@...</td>\n",
       "    </tr>\n",
       "    <tr>\n",
       "      <th>12dgr120</th>\n",
       "      <td>1,2-Diacyl-sn-glycerol (didodecanoyl, n-C12:0)</td>\n",
       "      <td>MNXM4939</td>\n",
       "      <td>CCCCCCCCCCCC(=O)OC[C@H](CO)OC(=O)CCCCCCCCCCC</td>\n",
       "    </tr>\n",
       "    <tr>\n",
       "      <th>12dgr140</th>\n",
       "      <td>1,2-Diacyl-sn-glycerol (ditetradecanoyl, n-C14:0)</td>\n",
       "      <td>MNXM146479</td>\n",
       "      <td>CCCCCCCCCCCCCC(=O)OC[C@H](CO)OC(=O)CCCCCCCCCCCCC</td>\n",
       "    </tr>\n",
       "    <tr>\n",
       "      <th>12dgr161</th>\n",
       "      <td>1,2-Diacyl-sn-glycerol (dihexadec-9-enoyl, n-C...</td>\n",
       "      <td>MNXM3774</td>\n",
       "      <td>CCCCCC/C=C\\CCCCCCCC(=O)OC[C@H](CO)OC(=O)CCCCCC...</td>\n",
       "    </tr>\n",
       "    <tr>\n",
       "      <th>12dgr180</th>\n",
       "      <td>1,2-Diacyl-sn-glycerol (dioctadecanoyl, n-C18:0)</td>\n",
       "      <td>MNXM4217</td>\n",
       "      <td>CCCCCCCCCCCCCCCCCC(=O)OC[C@H](CO)OC(=O)CCCCCCC...</td>\n",
       "    </tr>\n",
       "  </tbody>\n",
       "</table>\n",
       "</div>"
      ],
      "text/plain": [
       "                                                                name  \\\n",
       "universal_bigg_id                                                      \n",
       "10fthf                                     10-Formyltetrahydrofolate   \n",
       "12dgr120              1,2-Diacyl-sn-glycerol (didodecanoyl, n-C12:0)   \n",
       "12dgr140           1,2-Diacyl-sn-glycerol (ditetradecanoyl, n-C14:0)   \n",
       "12dgr161           1,2-Diacyl-sn-glycerol (dihexadec-9-enoyl, n-C...   \n",
       "12dgr180            1,2-Diacyl-sn-glycerol (dioctadecanoyl, n-C18:0)   \n",
       "\n",
       "                          MNX  \\\n",
       "universal_bigg_id               \n",
       "10fthf                MNXM237   \n",
       "12dgr120             MNXM4939   \n",
       "12dgr140           MNXM146479   \n",
       "12dgr161             MNXM3774   \n",
       "12dgr180             MNXM4217   \n",
       "\n",
       "                                                           smiles_ok  \n",
       "universal_bigg_id                                                     \n",
       "10fthf             N=c1nc(O)c2c([nH]1)NCC(CN(C=O)c1ccc(C(=O)N[C@@...  \n",
       "12dgr120                CCCCCCCCCCCC(=O)OC[C@H](CO)OC(=O)CCCCCCCCCCC  \n",
       "12dgr140            CCCCCCCCCCCCCC(=O)OC[C@H](CO)OC(=O)CCCCCCCCCCCCC  \n",
       "12dgr161           CCCCCC/C=C\\CCCCCCCC(=O)OC[C@H](CO)OC(=O)CCCCCC...  \n",
       "12dgr180           CCCCCCCCCCCCCCCCCC(=O)OC[C@H](CO)OC(=O)CCCCCCC...  "
      ]
     },
     "execution_count": 197,
     "metadata": {},
     "output_type": "execute_result"
    }
   ],
   "source": [
    "met_bigg = met_bigg[['name','MNX','smiles_ok']]\n",
    "met_bigg['MNX'] = met_bigg['MNX'].fillna('')\n",
    "met_bigg.head()"
   ]
  },
  {
   "cell_type": "code",
   "execution_count": 200,
   "metadata": {},
   "outputs": [],
   "source": [
    "met_bigg.to_csv('/media/frek/Storage/projects/chemocobra/static/metabolic/met_bigg_structs_mnx.csv')"
   ]
  },
  {
   "cell_type": "code",
   "execution_count": 199,
   "metadata": {},
   "outputs": [],
   "source": [
    "## Add this information to metabolites in models:\n",
    "for model_id in models:\n",
    "    for met in models[model_id]['metabolites']:\n",
    "        m_id = '_'.join(met['id'].split('_')[:-1])\n",
    "        if m_id in met_bigg.index:\n",
    "            met['MNX'] = met_bigg.loc[m_id,'MNX']\n",
    "            met['smiles'] = met_bigg.loc[m_id,'smiles_ok']"
   ]
  },
  {
   "cell_type": "code",
   "execution_count": null,
   "metadata": {},
   "outputs": [],
   "source": []
  },
  {
   "cell_type": "code",
   "execution_count": null,
   "metadata": {},
   "outputs": [],
   "source": []
  },
  {
   "cell_type": "markdown",
   "metadata": {},
   "source": [
    "## Reactions"
   ]
  },
  {
   "cell_type": "code",
   "execution_count": 234,
   "metadata": {},
   "outputs": [],
   "source": [
    "for m_id in models:\n",
    "    genes_model = {g['id']:g['name'] for g in models[m_id]['genes']}\n",
    "    for r in models[m_id]['reactions']:\n",
    "        genes_reaction = []\n",
    "        for g_id in genes_model:\n",
    "            if g_id in r['gene_reaction_rule']:\n",
    "                if genes_model[g_id] == '':\n",
    "                    genes_reaction.append(g_id)\n",
    "                else:\n",
    "                    genes_reaction.append(g_id+'('+genes_model[g_id]+')')\n",
    "        r['genes'] = ', '.join(genes_reaction)"
   ]
  },
  {
   "cell_type": "code",
   "execution_count": null,
   "metadata": {},
   "outputs": [],
   "source": []
  },
  {
   "cell_type": "code",
   "execution_count": null,
   "metadata": {},
   "outputs": [],
   "source": []
  },
  {
   "cell_type": "code",
   "execution_count": null,
   "metadata": {},
   "outputs": [],
   "source": []
  },
  {
   "cell_type": "markdown",
   "metadata": {},
   "source": [
    "## Sauvegarder modèle"
   ]
  },
  {
   "cell_type": "code",
   "execution_count": 237,
   "metadata": {},
   "outputs": [],
   "source": [
    "os.system('mkdir -p '+STATIC_DIR+'metabolic/models-new')\n",
    "for m_id in models:\n",
    "    with open(STATIC_DIR+'metabolic/models-new/'+m_id+'.json','w') as f:\n",
    "        json.dump(models[m_id],f)"
   ]
  },
  {
   "cell_type": "code",
   "execution_count": null,
   "metadata": {},
   "outputs": [],
   "source": []
  },
  {
   "cell_type": "code",
   "execution_count": null,
   "metadata": {},
   "outputs": [],
   "source": []
  },
  {
   "cell_type": "code",
   "execution_count": null,
   "metadata": {},
   "outputs": [],
   "source": []
  },
  {
   "cell_type": "code",
   "execution_count": null,
   "metadata": {},
   "outputs": [],
   "source": []
  },
  {
   "cell_type": "code",
   "execution_count": null,
   "metadata": {},
   "outputs": [],
   "source": []
  },
  {
   "cell_type": "code",
   "execution_count": null,
   "metadata": {},
   "outputs": [],
   "source": []
  },
  {
   "cell_type": "code",
   "execution_count": null,
   "metadata": {},
   "outputs": [],
   "source": []
  },
  {
   "cell_type": "code",
   "execution_count": null,
   "metadata": {},
   "outputs": [],
   "source": []
  },
  {
   "cell_type": "code",
   "execution_count": null,
   "metadata": {},
   "outputs": [],
   "source": []
  },
  {
   "cell_type": "code",
   "execution_count": null,
   "metadata": {},
   "outputs": [],
   "source": []
  }
 ],
 "metadata": {
  "kernelspec": {
   "display_name": "Python 3",
   "language": "python",
   "name": "python3"
  },
  "language_info": {
   "codemirror_mode": {
    "name": "ipython",
    "version": 3
   },
   "file_extension": ".py",
   "mimetype": "text/x-python",
   "name": "python",
   "nbconvert_exporter": "python",
   "pygments_lexer": "ipython3",
   "version": "3.6.8"
  }
 },
 "nbformat": 4,
 "nbformat_minor": 2
}
