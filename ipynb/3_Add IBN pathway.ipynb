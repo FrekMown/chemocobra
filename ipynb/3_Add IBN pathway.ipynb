{
 "cells": [
  {
   "cell_type": "code",
   "execution_count": 182,
   "metadata": {},
   "outputs": [],
   "source": [
    "import cameo\n",
    "import cobra\n",
    "import os\n",
    "import pandas as pd\n",
    "from cobra.core import Metabolite, Reaction"
   ]
  },
  {
   "cell_type": "code",
   "execution_count": 190,
   "metadata": {},
   "outputs": [],
   "source": [
    "model = cameo.load_model(dirmodels+'iML1515_PKT.json')"
   ]
  },
  {
   "cell_type": "code",
   "execution_count": 191,
   "metadata": {},
   "outputs": [
    {
     "data": {
      "text/html": [
       "\n",
       "        <table>\n",
       "            <tr>\n",
       "                <td><strong>Metabolite identifier</strong></td><td>acac_c</td>\n",
       "            </tr><tr>\n",
       "                <td><strong>Name</strong></td><td>Acetoacetate</td>\n",
       "            </tr><tr>\n",
       "                <td><strong>Memory address</strong></td>\n",
       "                <td>0x07fc8bb216940</td>\n",
       "            </tr><tr>\n",
       "                <td><strong>Formula</strong></td><td>C4H5O3</td>\n",
       "            </tr><tr>\n",
       "                <td><strong>Compartment</strong></td><td>c</td>\n",
       "            </tr><tr>\n",
       "                <td><strong>In 2 reaction(s)</strong></td><td>\n",
       "                    ACACt2pp, ACACCT</td>\n",
       "            </tr>\n",
       "        </table>"
      ],
      "text/plain": [
       "<Metabolite acac_c at 0x7fc8bb216940>"
      ]
     },
     "execution_count": 191,
     "metadata": {},
     "output_type": "execute_result"
    }
   ],
   "source": [
    "model.metabolites.acac_c"
   ]
  },
  {
   "cell_type": "code",
   "execution_count": 193,
   "metadata": {},
   "outputs": [
    {
     "data": {
      "text/html": [
       "\n",
       "        <table>\n",
       "            <tr>\n",
       "                <td><strong>Name</strong></td>\n",
       "                <td>iML1515</td>\n",
       "            </tr><tr>\n",
       "                <td><strong>Memory address</strong></td>\n",
       "                <td>0x07fc8b2162e10</td>\n",
       "            </tr><tr>\n",
       "                <td><strong>Number of metabolites</strong></td>\n",
       "                <td>1877</td>\n",
       "            </tr><tr>\n",
       "                <td><strong>Number of reactions</strong></td>\n",
       "                <td>2712</td>\n",
       "            </tr><tr>\n",
       "                <td><strong>Number of groups</strong></td>\n",
       "                <td>0</td>\n",
       "            </tr><tr>\n",
       "                <td><strong>Objective expression</strong></td>\n",
       "                <td>1.0*BIOMASS_Ec_iML1515_core_75p37M - 1.0*BIOMASS_Ec_iML1515_core_75p37M_reverse_35685</td>\n",
       "            </tr><tr>\n",
       "                <td><strong>Compartments</strong></td>\n",
       "                <td>cytosol, extracellular space, periplasm</td>\n",
       "            </tr>\n",
       "          </table>"
      ],
      "text/plain": [
       "<Model iML1515 at 0x7fc8b2162e10>"
      ]
     },
     "execution_count": 193,
     "metadata": {},
     "output_type": "execute_result"
    }
   ],
   "source": [
    "model2 = cameo.load_model(dirmodels+'iML1515.json')\n",
    "model2"
   ]
  },
  {
   "cell_type": "code",
   "execution_count": 195,
   "metadata": {},
   "outputs": [
    {
     "data": {
      "text/html": [
       "\n",
       "        <table>\n",
       "            <tr>\n",
       "                <td><strong>Reaction identifier</strong></td><td>ACACCT</td>\n",
       "            </tr><tr>\n",
       "                <td><strong>Name</strong></td><td>Acetyl-CoA:acetoacetyl-CoA transferase</td>\n",
       "            </tr><tr>\n",
       "                <td><strong>Memory address</strong></td>\n",
       "                <td>0x07fc8d1f92b38</td>\n",
       "            </tr><tr>\n",
       "                <td><strong>Stoichiometry</strong></td>\n",
       "                <td>\n",
       "                    <p style='text-align:right'>acac_c + accoa_c --> aacoa_c + ac_c</p>\n",
       "                    <p style='text-align:right'>Acetoacetate + Acetyl-CoA --> Acetoacetyl-CoA + Acetate</p>\n",
       "                </td>\n",
       "            </tr><tr>\n",
       "                <td><strong>GPR</strong></td><td>(b2222 and b2221) or b1694</td>\n",
       "            </tr><tr>\n",
       "                <td><strong>Lower bound</strong></td><td>0.0</td>\n",
       "            </tr><tr>\n",
       "                <td><strong>Upper bound</strong></td><td>1000.0</td>\n",
       "            </tr>\n",
       "        </table>\n",
       "        "
      ],
      "text/plain": [
       "<Reaction ACACCT at 0x7fc8d1f92b38>"
      ]
     },
     "execution_count": 195,
     "metadata": {},
     "output_type": "execute_result"
    }
   ],
   "source": [
    "model2.reactions.ACACCT"
   ]
  },
  {
   "cell_type": "code",
   "execution_count": 176,
   "metadata": {},
   "outputs": [],
   "source": [
    "reacts_del = ['ACACDCBX', 'IPRNADH', 'IPRNADPH', 'EX_acetone_e', 'EX_2ppoh_e']\n",
    "mets_del = ['acetone_c', '2ppoh_c']"
   ]
  },
  {
   "cell_type": "code",
   "execution_count": 177,
   "metadata": {},
   "outputs": [],
   "source": [
    "model.remove_reactions(reacts_del)"
   ]
  },
  {
   "cell_type": "code",
   "execution_count": 178,
   "metadata": {},
   "outputs": [],
   "source": [
    "model.remove_metabolites([model.metabolites.get_by_id(m_id) for m_id in mets_del])"
   ]
  },
  {
   "cell_type": "code",
   "execution_count": 179,
   "metadata": {},
   "outputs": [],
   "source": [
    "cobra.io.save_json_model(model,dirmodels+'iML1515_PKT_new.json')"
   ]
  },
  {
   "cell_type": "code",
   "execution_count": null,
   "metadata": {},
   "outputs": [],
   "source": []
  },
  {
   "cell_type": "code",
   "execution_count": 201,
   "metadata": {},
   "outputs": [],
   "source": [
    "dirmodels = '/media/frek/Storage/projects/chemocobra/static/metabolic/models_old/'\n",
    "dirout = '/media/frek/Storage/projects/chemocobra/static/metabolic/models/'"
   ]
  },
  {
   "cell_type": "code",
   "execution_count": 79,
   "metadata": {},
   "outputs": [
    {
     "data": {
      "text/plain": [
       "['iML1515_PKT.json',\n",
       " 'iML1515.json',\n",
       " 'iJO1366.json',\n",
       " 'RECON1.json',\n",
       " 'iHN637.json']"
      ]
     },
     "execution_count": 79,
     "metadata": {},
     "output_type": "execute_result"
    }
   ],
   "source": [
    "os.listdir(dirmodels)"
   ]
  },
  {
   "cell_type": "code",
   "execution_count": 183,
   "metadata": {},
   "outputs": [],
   "source": [
    "# os.system('cp /home/frek/Desktop/ibn_pathway.xlsx /media/frek/Storage/projects/chemocobra/ipynb')\n",
    "data_ibn = pd.read_excel('ibn_pathway.xlsx',index_col=0,sheet_name=None)"
   ]
  },
  {
   "cell_type": "code",
   "execution_count": 184,
   "metadata": {},
   "outputs": [
    {
     "data": {
      "text/html": [
       "<div>\n",
       "<style scoped>\n",
       "    .dataframe tbody tr th:only-of-type {\n",
       "        vertical-align: middle;\n",
       "    }\n",
       "\n",
       "    .dataframe tbody tr th {\n",
       "        vertical-align: top;\n",
       "    }\n",
       "\n",
       "    .dataframe thead th {\n",
       "        text-align: right;\n",
       "    }\n",
       "</style>\n",
       "<table border=\"1\" class=\"dataframe\">\n",
       "  <thead>\n",
       "    <tr style=\"text-align: right;\">\n",
       "      <th></th>\n",
       "      <th>name</th>\n",
       "      <th>lower_bound</th>\n",
       "      <th>upper_bound</th>\n",
       "      <th>gene_reaction_rule</th>\n",
       "      <th>reaction</th>\n",
       "    </tr>\n",
       "    <tr>\n",
       "      <th>id</th>\n",
       "      <th></th>\n",
       "      <th></th>\n",
       "      <th></th>\n",
       "      <th></th>\n",
       "      <th></th>\n",
       "    </tr>\n",
       "  </thead>\n",
       "  <tbody>\n",
       "    <tr>\n",
       "      <th>HMGCS</th>\n",
       "      <td>HMG-CoA Synthase</td>\n",
       "      <td>-1000</td>\n",
       "      <td>1000</td>\n",
       "      <td>S318</td>\n",
       "      <td>aacoa_c + accoa_c + h2o_c &lt;==&gt; hmgcoa_c + coa_...</td>\n",
       "    </tr>\n",
       "    <tr>\n",
       "      <th>ECH</th>\n",
       "      <td>HMG-CoA Dehydratase</td>\n",
       "      <td>-1000</td>\n",
       "      <td>1000</td>\n",
       "      <td>ECH</td>\n",
       "      <td>hmgcoa_c &lt;==&gt; mgcoa_c + h2o_c</td>\n",
       "    </tr>\n",
       "    <tr>\n",
       "      <th>AIBAB</th>\n",
       "      <td>MG-CoA Decarboxylase</td>\n",
       "      <td>0</td>\n",
       "      <td>1000</td>\n",
       "      <td>(aibA and aibB)</td>\n",
       "      <td>mgcoa_c + h_c → mccoa_c + co2_c</td>\n",
       "    </tr>\n",
       "    <tr>\n",
       "      <th>TESB</th>\n",
       "      <td>Acyl-CoA Thioesterase</td>\n",
       "      <td>-1000</td>\n",
       "      <td>1000</td>\n",
       "      <td>b0452</td>\n",
       "      <td>mccoa_c + h2o_c → mca_c + coa_c</td>\n",
       "    </tr>\n",
       "    <tr>\n",
       "      <th>SS5</th>\n",
       "      <td>Prenate decarboxylase</td>\n",
       "      <td>0</td>\n",
       "      <td>1000</td>\n",
       "      <td>ss5</td>\n",
       "      <td>mca_c → ibn_c + co2_c</td>\n",
       "    </tr>\n",
       "    <tr>\n",
       "      <th>EX_IBN_e</th>\n",
       "      <td>IBN Exchange</td>\n",
       "      <td>0</td>\n",
       "      <td>1000</td>\n",
       "      <td>NaN</td>\n",
       "      <td>ibn_c →</td>\n",
       "    </tr>\n",
       "    <tr>\n",
       "      <th>ACACDCBX</th>\n",
       "      <td>Acetoacetate Decarboxylase</td>\n",
       "      <td>0</td>\n",
       "      <td>1000</td>\n",
       "      <td>NaN</td>\n",
       "      <td>acac_c + h_c --&gt;  acetone_c + co2_c</td>\n",
       "    </tr>\n",
       "    <tr>\n",
       "      <th>IPRNADH</th>\n",
       "      <td>Propane 2-Monooxygenase (EC 1.14.13.227)</td>\n",
       "      <td>-1000</td>\n",
       "      <td>1000</td>\n",
       "      <td>NaN</td>\n",
       "      <td>acetone_c + h_c + nadh_c --&gt; ipa_c + nad_c</td>\n",
       "    </tr>\n",
       "    <tr>\n",
       "      <th>IPRNADPH</th>\n",
       "      <td>Isopropanol Dehydrogenase (EC 1.1.1.80)</td>\n",
       "      <td>-1000</td>\n",
       "      <td>1000</td>\n",
       "      <td>NaN</td>\n",
       "      <td>acetone_c + h_c + nadph_c --&gt; ipa_c + nadp_c</td>\n",
       "    </tr>\n",
       "    <tr>\n",
       "      <th>EX_acetone</th>\n",
       "      <td>Acetone Exchange</td>\n",
       "      <td>0</td>\n",
       "      <td>1000</td>\n",
       "      <td>NaN</td>\n",
       "      <td>acetone_c --&gt;</td>\n",
       "    </tr>\n",
       "    <tr>\n",
       "      <th>EX_ipa</th>\n",
       "      <td>Isopropanol Exchange</td>\n",
       "      <td>0</td>\n",
       "      <td>1000</td>\n",
       "      <td>NaN</td>\n",
       "      <td>ipa_c --&gt;</td>\n",
       "    </tr>\n",
       "  </tbody>\n",
       "</table>\n",
       "</div>"
      ],
      "text/plain": [
       "                                                name  lower_bound  \\\n",
       "id                                                                  \n",
       "HMGCS                               HMG-CoA Synthase        -1000   \n",
       "ECH                              HMG-CoA Dehydratase        -1000   \n",
       "AIBAB                           MG-CoA Decarboxylase            0   \n",
       "TESB                           Acyl-CoA Thioesterase        -1000   \n",
       "SS5                            Prenate decarboxylase            0   \n",
       "EX_IBN_e                                IBN Exchange            0   \n",
       "ACACDCBX                  Acetoacetate Decarboxylase            0   \n",
       "IPRNADH     Propane 2-Monooxygenase (EC 1.14.13.227)        -1000   \n",
       "IPRNADPH    Isopropanol Dehydrogenase (EC 1.1.1.80)         -1000   \n",
       "EX_acetone                          Acetone Exchange            0   \n",
       "EX_ipa                          Isopropanol Exchange            0   \n",
       "\n",
       "            upper_bound gene_reaction_rule  \\\n",
       "id                                           \n",
       "HMGCS              1000               S318   \n",
       "ECH                1000                ECH   \n",
       "AIBAB              1000    (aibA and aibB)   \n",
       "TESB               1000              b0452   \n",
       "SS5                1000                ss5   \n",
       "EX_IBN_e           1000                NaN   \n",
       "ACACDCBX           1000                NaN   \n",
       "IPRNADH            1000                NaN   \n",
       "IPRNADPH           1000                NaN   \n",
       "EX_acetone         1000                NaN   \n",
       "EX_ipa             1000                NaN   \n",
       "\n",
       "                                                     reaction  \n",
       "id                                                             \n",
       "HMGCS       aacoa_c + accoa_c + h2o_c <==> hmgcoa_c + coa_...  \n",
       "ECH                             hmgcoa_c <==> mgcoa_c + h2o_c  \n",
       "AIBAB                         mgcoa_c + h_c → mccoa_c + co2_c  \n",
       "TESB                          mccoa_c + h2o_c → mca_c + coa_c  \n",
       "SS5                                     mca_c → ibn_c + co2_c  \n",
       "EX_IBN_e                                             ibn_c →   \n",
       "ACACDCBX                  acac_c + h_c -->  acetone_c + co2_c  \n",
       "IPRNADH            acetone_c + h_c + nadh_c --> ipa_c + nad_c  \n",
       "IPRNADPH         acetone_c + h_c + nadph_c --> ipa_c + nadp_c  \n",
       "EX_acetone                                     acetone_c -->   \n",
       "EX_ipa                                             ipa_c -->   "
      ]
     },
     "execution_count": 184,
     "metadata": {},
     "output_type": "execute_result"
    }
   ],
   "source": [
    "data_ibn['reactions']"
   ]
  },
  {
   "cell_type": "code",
   "execution_count": 204,
   "metadata": {},
   "outputs": [
    {
     "name": "stdout",
     "output_type": "stream",
     "text": [
      "ACACCT changed for iML1515_PKT_old\n",
      "iML1515_PKT_old 14.792380952380945\n",
      "iML1515_PKT OK\n",
      "ACACCT changed for iML1515\n",
      "iML1515 13.841159420289856\n",
      "iML1515 OK\n",
      "ACACCT changed for iJO1366\n",
      "iJO1366 OK\n",
      "RECON1 OK\n",
      "unknown metabolite 'acac_c' created\n",
      "iHN637 OK\n"
     ]
    }
   ],
   "source": [
    "mets = {}\n",
    "## Charge metabolites\n",
    "for m_id in data_ibn['metabolites'].index:\n",
    "    mets[m_id] = Metabolite(\n",
    "        id = m_id,\n",
    "        name = data_ibn['metabolites'].loc[m_id,'name'],\n",
    "        formula = data_ibn['metabolites'].loc[m_id,'formula'],\n",
    "        compartment = data_ibn['metabolites'].loc[m_id,'compartment']\n",
    "    )\n",
    "#     print(m_id,'charge:',mets[m_id].charge)\n",
    "    \n",
    "for filename in [f for f in os.listdir(dirmodels) if 'old' not in f]:\n",
    "    model = cameo.load_model(dirmodels+filename)\n",
    "    model.add_metabolites(mets.values())    \n",
    "    ## add reactions\n",
    "    for r_id in data_ibn['reactions'].index:\n",
    "        r = Reaction(\n",
    "            id = r_id,\n",
    "            name = data_ibn['reactions'].loc[r_id,'name'],\n",
    "            subsystem = 'IBN Pathway D',\n",
    "            lower_bound = data_ibn['reactions'].loc[r_id,'lower_bound'],\n",
    "            upper_bound = data_ibn['reactions'].loc[r_id,'upper_bound']\n",
    "        )\n",
    "        model.add_reaction(r)\n",
    "        r.reaction = data_ibn['reactions'].loc[r_id,'reaction'].replace('→','-->')\n",
    "        balanced = r.check_mass_balance()\n",
    "    \n",
    "    try:\n",
    "        ACACCT = model.reactions.get_by_id('ACACCT')\n",
    "    except:\n",
    "        pass\n",
    "    else:\n",
    "        ACACCT.lower_bound = -1000\n",
    "        print('ACACCT changed for',model.id)\n",
    "            \n",
    "    if 'iML1515' in model.id:\n",
    "        model.objective = 'EX_acetone'\n",
    "        res = model.optimize()\n",
    "        print(model.id, res.objective_value)\n",
    "    \n",
    "    if model.id == 'iML1515_PKT_old':\n",
    "        model.id = 'iML1515_PKT'\n",
    "    cobra.io.save_json_model(model, dirout+filename)\n",
    "    \n",
    "    print(model.id, 'OK')\n",
    "    "
   ]
  },
  {
   "cell_type": "code",
   "execution_count": 198,
   "metadata": {},
   "outputs": [
    {
     "data": {
      "text/html": [
       "\n",
       "        <table>\n",
       "            <tr>\n",
       "                <td><strong>Reaction identifier</strong></td><td>ECH</td>\n",
       "            </tr><tr>\n",
       "                <td><strong>Name</strong></td><td>HMG-CoA Dehydratase</td>\n",
       "            </tr><tr>\n",
       "                <td><strong>Memory address</strong></td>\n",
       "                <td>0x07fc8aa6012e8</td>\n",
       "            </tr><tr>\n",
       "                <td><strong>Stoichiometry</strong></td>\n",
       "                <td>\n",
       "                    <p style='text-align:right'>hmgcoa_c <=> h2o_c + mgcoa_c</p>\n",
       "                    <p style='text-align:right'>Hydroxymethylglutaryl CoA <=> H2O H2O + 3-Methylglutaconyl-CoA</p>\n",
       "                </td>\n",
       "            </tr><tr>\n",
       "                <td><strong>GPR</strong></td><td></td>\n",
       "            </tr><tr>\n",
       "                <td><strong>Lower bound</strong></td><td>-1000</td>\n",
       "            </tr><tr>\n",
       "                <td><strong>Upper bound</strong></td><td>1000</td>\n",
       "            </tr>\n",
       "        </table>\n",
       "        "
      ],
      "text/plain": [
       "<Reaction ECH at 0x7fc8aa6012e8>"
      ]
     },
     "execution_count": 198,
     "metadata": {},
     "output_type": "execute_result"
    }
   ],
   "source": [
    "r = model.reactions.get_by_id('ECH')\n",
    "r"
   ]
  },
  {
   "cell_type": "code",
   "execution_count": 199,
   "metadata": {},
   "outputs": [
    {
     "name": "stdout",
     "output_type": "stream",
     "text": [
      "aacoa_c -1 {'C': 25, 'H': 36, 'N': 7, 'O': 18, 'P': 3, 'S': 1}\n",
      "accoa_c -1 {'C': 23, 'H': 34, 'N': 7, 'O': 17, 'P': 3, 'S': 1}\n",
      "h2o_c -1 {'H': 2, 'O': 1}\n",
      "hmgcoa_c 1 {'C': 27, 'H': 39, 'N': 7, 'O': 20, 'P': 3, 'S': 1}\n",
      "coa_c 1 {'C': 21, 'H': 32, 'N': 7, 'O': 16, 'P': 3, 'S': 1}\n",
      "h_c 1 {'H': 1}\n"
     ]
    }
   ],
   "source": [
    "r = model.reactions.get_by_id('HMGCS')\n",
    "for m in r.metabolites:\n",
    "    print(m.id, r.metabolites[m], m.elements)"
   ]
  },
  {
   "cell_type": "code",
   "execution_count": 200,
   "metadata": {},
   "outputs": [
    {
     "data": {
      "text/html": [
       "\n",
       "        <table>\n",
       "            <tr>\n",
       "                <td><strong>Name</strong></td>\n",
       "                <td>iHN637</td>\n",
       "            </tr><tr>\n",
       "                <td><strong>Memory address</strong></td>\n",
       "                <td>0x07fc8aa7be668</td>\n",
       "            </tr><tr>\n",
       "                <td><strong>Number of metabolites</strong></td>\n",
       "                <td>706</td>\n",
       "            </tr><tr>\n",
       "                <td><strong>Number of reactions</strong></td>\n",
       "                <td>796</td>\n",
       "            </tr><tr>\n",
       "                <td><strong>Number of groups</strong></td>\n",
       "                <td>0</td>\n",
       "            </tr><tr>\n",
       "                <td><strong>Objective expression</strong></td>\n",
       "                <td>1.0*BIOMASS_Cl_DSM_WT_46p666M1 - 1.0*BIOMASS_Cl_DSM_WT_46p666M1_reverse_a44fc</td>\n",
       "            </tr><tr>\n",
       "                <td><strong>Compartments</strong></td>\n",
       "                <td>cytosol, extracellular space</td>\n",
       "            </tr>\n",
       "          </table>"
      ],
      "text/plain": [
       "<Model iHN637 at 0x7fc8aa7be668>"
      ]
     },
     "execution_count": 200,
     "metadata": {},
     "output_type": "execute_result"
    }
   ],
   "source": [
    "model"
   ]
  },
  {
   "cell_type": "code",
   "execution_count": null,
   "metadata": {},
   "outputs": [],
   "source": []
  },
  {
   "cell_type": "code",
   "execution_count": 45,
   "metadata": {},
   "outputs": [
    {
     "data": {
      "text/plain": [
       "{}"
      ]
     },
     "execution_count": 45,
     "metadata": {},
     "output_type": "execute_result"
    }
   ],
   "source": [
    "r.check_mass_balance()"
   ]
  },
  {
   "cell_type": "code",
   "execution_count": null,
   "metadata": {},
   "outputs": [],
   "source": []
  },
  {
   "cell_type": "code",
   "execution_count": null,
   "metadata": {},
   "outputs": [],
   "source": []
  }
 ],
 "metadata": {
  "kernelspec": {
   "display_name": "Python 3",
   "language": "python",
   "name": "python3"
  },
  "language_info": {
   "codemirror_mode": {
    "name": "ipython",
    "version": 3
   },
   "file_extension": ".py",
   "mimetype": "text/x-python",
   "name": "python",
   "nbconvert_exporter": "python",
   "pygments_lexer": "ipython3",
   "version": "3.6.8"
  }
 },
 "nbformat": 4,
 "nbformat_minor": 2
}
